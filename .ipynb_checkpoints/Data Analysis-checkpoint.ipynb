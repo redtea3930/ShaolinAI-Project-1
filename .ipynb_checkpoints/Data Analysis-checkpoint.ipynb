{
 "cells": [
  {
   "cell_type": "code",
   "execution_count": null,
   "id": "25fb1952",
   "metadata": {},
   "outputs": [],
   "source": [
    "import matplotlib.pyplot as plt\n"
   ]
  },
  {
   "cell_type": "markdown",
   "id": "bffb2f64",
   "metadata": {},
   "source": [
    "## Normalized City Home Values vs Fed Balance Sheet Monthly"
   ]
  },
  {
   "cell_type": "code",
   "execution_count": null,
   "id": "3a57031f",
   "metadata": {},
   "outputs": [],
   "source": [
    "# Create a subset of DataFrame with specific columns using iloc\n",
    "columns_to_select = [0, 1, 2, 3, 4, 5, 6, 7, 8, 9, 10]\n",
    "subset_df = City_zhvi_by_date.iloc[:, columns_to_select]\n",
    "# rename columns\n",
    "colum = ['Date', 'New York', 'Los Angeles', 'Houston', 'Chicago', 'San Antonio', 'Philadelphia', 'Phoenix', 'Las Vegas', 'San Diego', 'Dallas']\n",
    "subset_df.columns = colum\n",
    "subset_df.set_index('Date', inplace=True)\n",
    "subset_df.head()"
   ]
  },
  {
   "cell_type": "code",
   "execution_count": null,
   "id": "e3eaeeaf",
   "metadata": {},
   "outputs": [],
   "source": [
    "from pathlib import Path\n",
    "import csv\n",
    "fed_balance = Path('../../total_assets.csv')\n",
    "fed_df = pd.read_csv(fed_balance)\n",
    "fed_df['date'] = pd.to_datetime(fed_df['date'])\n",
    "fed_c = ['Date', 'Total_Assets']\n",
    "fed_df.columns = fed_c\n",
    "fed_df.head()"
   ]
  },
  {
   "cell_type": "code",
   "execution_count": null,
   "id": "f31cece1",
   "metadata": {},
   "outputs": [],
   "source": [
    "one_day = pd.Timedelta(days=1)  # Create a Timedelta representing one day\n",
    "fed_df['Date'] = fed_df['Date'] - one_day # Subtract one day from fed balance sheet dates\n",
    "fed_df.set_index('Date', inplace=True)\n",
    "fed_df.head()"
   ]
  },
  {
   "cell_type": "code",
   "execution_count": null,
   "id": "7a41c676",
   "metadata": {},
   "outputs": [],
   "source": [
    "#concatenate\n",
    "Homes_v_Fed = pd.concat([fed_df, subset_df], axis='columns', join='inner')\n",
    "Homes_v_Fed.head()"
   ]
  },
  {
   "cell_type": "code",
   "execution_count": null,
   "id": "14aa3c8b",
   "metadata": {},
   "outputs": [],
   "source": [
    "# Normalization formula\n",
    "homes_v_fed_norm = (Homes_v_Fed - Homes_v_Fed.min()) / (Homes_v_Fed.max() - Homes_v_Fed.min())"
   ]
  },
  {
   "cell_type": "code",
   "execution_count": null,
   "id": "3589d1b6",
   "metadata": {},
   "outputs": [],
   "source": [
    "# Line plot for Normalized Asset Price of each column\n",
    "plt.figure(figsize=(10, 6))\n",
    "\n",
    "plt.plot(homes_v_fed_norm.index, homes_v_fed_norm['Total_Assets'], label='Fed_Total_Assets')\n",
    "plt.plot(homes_v_fed_norm.index, homes_v_fed_norm['New York'], label='New York')\n",
    "plt.plot(homes_v_fed_norm.index, homes_v_fed_norm['Los Angeles'], label='Los Angeles')\n",
    "plt.plot(homes_v_fed_norm.index, homes_v_fed_norm['Houston'], label='Houston')\n",
    "plt.plot(homes_v_fed_norm.index, homes_v_fed_norm['Chicago'], label='Chicago')\n",
    "plt.plot(homes_v_fed_norm.index, homes_v_fed_norm['San Antonio'], label='San Antonio')\n",
    "plt.plot(homes_v_fed_norm.index, homes_v_fed_norm['Philadelphia'], label='Philadelphia')\n",
    "plt.plot(homes_v_fed_norm.index, homes_v_fed_norm['Phoenix'], label='Phoenix')\n",
    "plt.plot(homes_v_fed_norm.index, homes_v_fed_norm['Las Vegas'], label='Las Vegas')\n",
    "plt.plot(homes_v_fed_norm.index, homes_v_fed_norm['San Diego'], label='San Diego')\n",
    "plt.plot(homes_v_fed_norm.index, homes_v_fed_norm['Dallas'], label='Dallas')\n",
    "\n",
    "# Add labels and title\n",
    "plt.xlabel('Date')\n",
    "plt.ylabel('Value')\n",
    "plt.title('Normalized Monthly Home Values Compared to Fed Balance Sheet')\n",
    "\n",
    "# Add a legend\n",
    "plt.legend()\n",
    "\n",
    "# Show the plot\n",
    "plt.show()\n",
    "plt.savefig('Normalized City Home Values vs Fed Balance Sheet Monthly.png', dpi=300)"
   ]
  },
  {
   "cell_type": "markdown",
   "id": "c8760a13",
   "metadata": {},
   "source": [
    "## Scatter plot of New York home values vs Normalized Fed Balance Sheet"
   ]
  },
  {
   "cell_type": "code",
   "execution_count": null,
   "id": "df617bbd",
   "metadata": {},
   "outputs": [],
   "source": [
    "Homes_v_Fed.plot(kind='scatter', x='Total_Assets', y='New York')"
   ]
  },
  {
   "cell_type": "markdown",
   "id": "eef3c92c",
   "metadata": {},
   "source": [
    "## Correlation of Raw Prices"
   ]
  },
  {
   "cell_type": "code",
   "execution_count": null,
   "id": "1b8e8e21",
   "metadata": {},
   "outputs": [],
   "source": [
    "# Correlation of raw prices\n",
    "price_correlation = Homes_v_Fed.corr()\n",
    "sns.heatmap(price_correlation, cmap='coolwarm', annot=True, fmt='.2f', vmin=-1, vmax=1)\n",
    "# save plot\n",
    "plt.savefig('seaborn_plot.png', dpi=300)"
   ]
  },
  {
   "cell_type": "markdown",
   "id": "da836b00",
   "metadata": {},
   "source": [
    "## Monthly Cumulative Gain Comparison"
   ]
  },
  {
   "cell_type": "code",
   "execution_count": null,
   "id": "610a753a",
   "metadata": {},
   "outputs": [],
   "source": [
    "hvf = Homes_v_Fed\n",
    "# Calculate the monthly percent gains\n",
    "Fed_Monthly_Return = Homes_v_Fed['Total_Assets'].pct_change()\n",
    "NY_Monthly_Return = Homes_v_Fed['New York'].pct_change()\n",
    "LA_Monthly_Return = Homes_v_Fed['Los Angeles'].pct_change()\n",
    "Htown_Monthly_Return = Homes_v_Fed['Houston'].pct_change()\n",
    "Chi_Monthly_Return = Homes_v_Fed['Chicago'].pct_change()\n",
    "SA_Monthly_Return = Homes_v_Fed['San Antonio'].pct_change()\n",
    "Phi_Monthly_Return = Homes_v_Fed['Philadelphia'].pct_change()\n",
    "Pho_Monthly_Return = Homes_v_Fed['Phoenix'].pct_change()\n",
    "LV_Monthly_Return = Homes_v_Fed['Las Vegas'].pct_change()\n",
    "SD_Monthly_Return = Homes_v_Fed['San Diego'].pct_change()\n",
    "Dallas_Monthly_Return = Homes_v_Fed['Dallas'].pct_change()\n",
    "# Calculate the cumulative gain (or loss) and append to the hvf dataframe, using the above values\n",
    "hvf['Fed_Cumulative_Gain'] = (1 + Fed_Monthly_Return).cumprod() - 1\n",
    "hvf['NYC_Cumulative_Gain'] = (1 + NY_Monthly_Return).cumprod() - 1\n",
    "hvf['LA_Cumulative_Gain'] = (1 + LA_Monthly_Return).cumprod() - 1\n",
    "hvf['Houston_Cumulative_Gain'] = (1 + Htown_Monthly_Return).cumprod() - 1\n",
    "hvf['Chicago_Cumulative_Gain'] = (1 + Chi_Monthly_Return).cumprod() - 1\n",
    "hvf['San_Antonio_Cumulative_Gain'] = (1 + SA_Monthly_Return).cumprod() - 1\n",
    "hvf['Philadelphia_Cumulative_Gain'] = (1 + Phi_Monthly_Return).cumprod() - 1\n",
    "hvf['Phoenix_Cumulative_Gain'] = (1 + Pho_Monthly_Return).cumprod() - 1\n",
    "hvf['Las_Vegas_Cumulative_Gain'] = (1 + LV_Monthly_Return).cumprod() - 1\n",
    "hvf['San_Diego_Cumulative_Gain'] = (1 + SD_Monthly_Return).cumprod() - 1\n",
    "hvf['Dallas_Cumulative_Gain'] = (1 + Dallas_Monthly_Return).cumprod() - 1\n",
    "# drop unnecessary columns (cleared because I already ran it)\n",
    "# hvf = hvf.drop(columns=['Total_Assets', 'New York', 'Los Angeles', 'Houston', 'Chicago', 'San Antonio', 'Philadelphia', 'Phoenix', 'Las Vegas', 'San Diego', 'Dallas'])\n",
    "hvf.head()"
   ]
  },
  {
   "cell_type": "code",
   "execution_count": null,
   "id": "b02c4fc1",
   "metadata": {},
   "outputs": [],
   "source": [
    "# Normalization formula for cumulative gains dataframe (hvf)\n",
    "hvf_norm = (hvf - hvf.min()) / (hvf.max() - hvf.min())"
   ]
  },
  {
   "cell_type": "code",
   "execution_count": null,
   "id": "9994901e",
   "metadata": {},
   "outputs": [],
   "source": [
    "# Line plots for Normalized monthly cumulative gains\n",
    "plt.figure(figsize=(10, 6))\n",
    "\n",
    "plt.plot(hvf_norm.index, hvf_norm['Fed_Cumulative_Gain'], label='Fed_Cumulative_Gain')\n",
    "plt.plot(hvf_norm.index, hvf_norm['NYC_Cumulative_Gain'], label='NYC_Cumulative_Gain')\n",
    "plt.plot(hvf_norm.index, hvf_norm['LA_Cumulative_Gain'], label='LA_Cumulative_Gain')\n",
    "plt.plot(hvf_norm.index, hvf_norm['Houston_Cumulative_Gain'], label='Houston_Cumulative_Gain')\n",
    "plt.plot(hvf_norm.index, hvf_norm['Chicago_Cumulative_Gain'], label='Chicago_Cumulative_Gain')\n",
    "plt.plot(hvf_norm.index, hvf_norm['San_Antonio_Cumulative_Gain'], label='San_Antonio_Cumulative_Gain')\n",
    "plt.plot(hvf_norm.index, hvf_norm['Philadelphia_Cumulative_Gain'], label='Philadelphia_Cumulative_Gain')\n",
    "plt.plot(hvf_norm.index, hvf_norm['Phoenix_Cumulative_Gain'], label='Phoenix_Cumulative_Gain')\n",
    "plt.plot(hvf_norm.index, hvf_norm['Las_Vegas_Cumulative_Gain'], label='Las_Vegas_Cumulative_Gain')\n",
    "plt.plot(hvf_norm.index, hvf_norm['San_Diego_Cumulative_Gain'], label='San_Diego_Cumulative_Gain')\n",
    "plt.plot(hvf_norm.index, hvf_norm['Dallas_Cumulative_Gain'], label='Dallas_Cumulative_Gain')\n",
    "\n",
    "# Add labels and title\n",
    "plt.xlabel('Date')\n",
    "plt.ylabel('Cumulative Gain')\n",
    "plt.title('Monthly Cumulative Gain Comparison')\n",
    "\n",
    "# Add a legend\n",
    "plt.legend()\n",
    "\n",
    "# Show the plot\n",
    "plt.show()"
   ]
  },
  {
   "cell_type": "markdown",
   "id": "16cbec21",
   "metadata": {},
   "source": [
    "## Correlation heatmap for cumulative gains"
   ]
  },
  {
   "cell_type": "code",
   "execution_count": null,
   "id": "cfc9b1b5",
   "metadata": {},
   "outputs": [],
   "source": [
    "price_correlation = hvf.corr()\n",
    "sns.heatmap(price_correlation, cmap='coolwarm', annot=True, fmt='.2f', vmin=-1, vmax=1)"
   ]
  },
  {
   "cell_type": "markdown",
   "id": "8deac2db",
   "metadata": {},
   "source": [
    "## Liquidity vs Assets Correlation Heatmap"
   ]
  },
  {
   "cell_type": "code",
   "execution_count": null,
   "id": "30c73f42",
   "metadata": {},
   "outputs": [],
   "source": [
    "liquidpath = Path(\"corporate_liquidity.csv\")\n",
    "liquid_df = pd.read_csv(liquidpath, parse_dates=True, index_col=\"date\", infer_datetime_format=True)"
   ]
  },
  {
   "cell_type": "code",
   "execution_count": null,
   "id": "f4a73e12",
   "metadata": {},
   "outputs": [],
   "source": [
    "walclpath = Path('total_assets.csv')\n",
    "assets_df = pd.read_csv(walclpath, parse_dates=True, index_col=\"date\", infer_datetime_format=True)"
   ]
  },
  {
   "cell_type": "code",
   "execution_count": null,
   "id": "b474fba5",
   "metadata": {},
   "outputs": [],
   "source": [
    "liquidity_assets = pd.concat([liquid_df, assets_df], axis=1, join='inner')\n",
    "liquidity_assets"
   ]
  },
  {
   "cell_type": "code",
   "execution_count": null,
   "id": "ae4886f6",
   "metadata": {},
   "outputs": [],
   "source": [
    "corr_matrix = liquidity_assets.corr()\n",
    "sns.heatmap(corr_matrix, annot=True, cmap='coolwarm')"
   ]
  },
  {
   "cell_type": "markdown",
   "id": "d3003a85",
   "metadata": {},
   "source": [
    "## Effective Rate vs Liquidity Correlation Heatmap"
   ]
  },
  {
   "cell_type": "code",
   "execution_count": null,
   "id": "8583c2b3",
   "metadata": {},
   "outputs": [],
   "source": [
    "rate_path = Path('effective_rate.csv')\n",
    "effective_rate = pd.read_csv(rate_path, parse_dates=True, index_col=\"date\", infer_datetime_format=True)\n",
    "effective_rate"
   ]
  },
  {
   "cell_type": "code",
   "execution_count": null,
   "id": "a85fc4fc",
   "metadata": {},
   "outputs": [],
   "source": [
    "effective_liquidity = pd.concat([liquid_df, effective_rate], axis=1, join='inner')\n",
    "effective_liquidity"
   ]
  },
  {
   "cell_type": "code",
   "execution_count": null,
   "id": "6c5881b1",
   "metadata": {},
   "outputs": [],
   "source": [
    "corr_matrix = effective_liquidity.corr()\n",
    "sns.heatmap(corr_matrix, annot=True, cmap='coolwarm')"
   ]
  },
  {
   "cell_type": "markdown",
   "id": "4bcf158e",
   "metadata": {},
   "source": [
    "## 30 year bond vs Home Prices Correlation Heatmap"
   ]
  },
  {
   "cell_type": "code",
   "execution_count": null,
   "id": "e46517c6",
   "metadata": {},
   "outputs": [],
   "source": [
    "condopath = Path('city_condo_smoothed_by_date.csv')\n",
    "condos = pd.read_csv(condopath)\n",
    "columns_to_select = [0, 1, 2, 3, 4, 5, 6, 7, 8, 9, 10]\n",
    "condos = condos.iloc[:, columns_to_select]"
   ]
  },
  {
   "cell_type": "code",
   "execution_count": null,
   "id": "2dc38032",
   "metadata": {},
   "outputs": [],
   "source": [
    "bond_yield_30.reset_index(inplace=True)"
   ]
  },
  {
   "cell_type": "code",
   "execution_count": null,
   "id": "52a6bf56",
   "metadata": {},
   "outputs": [],
   "source": [
    "condos_by_bond = pd.concat([bond_yield_30, condos], axis=1, join='inner')"
   ]
  },
  {
   "cell_type": "code",
   "execution_count": null,
   "id": "f8fa5b22",
   "metadata": {},
   "outputs": [],
   "source": [
    "condos_by_bond = condos_by_bond.drop(['date', 'High', 'Low', 'Close', 'Adj Close', 'Volume'], axis=1)"
   ]
  },
  {
   "cell_type": "code",
   "execution_count": null,
   "id": "90ae9120",
   "metadata": {},
   "outputs": [],
   "source": [
    "columns_to_select = [0, 1, 2, 3, 4, 5, 6, 7, 8, 9, 10]\n",
    "top_condos_by_bond = condos_by_bond.iloc[:, columns_to_select]"
   ]
  },
  {
   "cell_type": "code",
   "execution_count": null,
   "id": "bbaff245",
   "metadata": {},
   "outputs": [],
   "source": [
    "corr_matrix = top_condos_by_bond.corr()\n",
    "sns.heatmap(corr_matrix, annot=True, cmap='coolwarm')\n",
    "plt.savefig(\"30_bond_vs_homeprice_cities.png\")"
   ]
  },
  {
   "cell_type": "markdown",
   "id": "4ae2fe2e",
   "metadata": {},
   "source": [
    "## SP500 vs Condo prices"
   ]
  },
  {
   "cell_type": "code",
   "execution_count": null,
   "id": "f2896db8",
   "metadata": {},
   "outputs": [],
   "source": [
    "sp500.reset_index(inplace=True)"
   ]
  },
  {
   "cell_type": "code",
   "execution_count": null,
   "id": "d461d677",
   "metadata": {},
   "outputs": [],
   "source": [
    "sp500 = sp500.drop(['High', 'Low', 'Close', 'Adj Close', 'Volume'], axis=1)"
   ]
  },
  {
   "cell_type": "code",
   "execution_count": null,
   "id": "05b20e55",
   "metadata": {},
   "outputs": [],
   "source": [
    "condos_by_sp500 = pd.concat([condos, sp500], axis=1, join='inner')"
   ]
  },
  {
   "cell_type": "code",
   "execution_count": null,
   "id": "f3d3d39a",
   "metadata": {},
   "outputs": [],
   "source": [
    "condos_by_sp500 = condos_by_sp500.drop(['Date'], axis=1)"
   ]
  },
  {
   "cell_type": "code",
   "execution_count": null,
   "id": "9771c447",
   "metadata": {},
   "outputs": [],
   "source": [
    "corr_matrix = condos_by_sp500.corr()\n",
    "sns.heatmap(corr_matrix, annot=True, cmap='coolwarm')\n",
    "plt.savefig('sp500_vs_homeprice_cities.png')"
   ]
  },
  {
   "cell_type": "markdown",
   "id": "e505bc0c",
   "metadata": {},
   "source": [
    "## Price of Gold vs Condo prices"
   ]
  },
  {
   "cell_type": "code",
   "execution_count": null,
   "id": "fc23d454",
   "metadata": {},
   "outputs": [],
   "source": [
    "data.reset_index(inplace=True)"
   ]
  },
  {
   "cell_type": "code",
   "execution_count": null,
   "id": "9d8fc5d4",
   "metadata": {},
   "outputs": [],
   "source": [
    "gold = data.drop(['High', 'Low', 'Close', 'Adj Close', 'Volume'], axis=1)"
   ]
  },
  {
   "cell_type": "code",
   "execution_count": null,
   "id": "94c7268a",
   "metadata": {},
   "outputs": [],
   "source": [
    "gold_by_condos = pd.concat([gold, condos], axis=1, join='inner')\n",
    "gold_by_condos = gold_by_condos.drop(['date'], axis=1)"
   ]
  },
  {
   "cell_type": "code",
   "execution_count": null,
   "id": "3a0b784a",
   "metadata": {},
   "outputs": [],
   "source": [
    "corr_matrix = gold_by_condos.corr()\n",
    "sns.heatmap(corr_matrix, annot=True, cmap='coolwarm')\n",
    "plt.savefig('gold_by_condos.png')\n"
   ]
  },
  {
   "cell_type": "markdown",
   "id": "e62f58ae",
   "metadata": {},
   "source": [
    "## Fed Liquid Assets vs Condo Prices"
   ]
  },
  {
   "cell_type": "code",
   "execution_count": null,
   "id": "99d80edb",
   "metadata": {},
   "outputs": [],
   "source": [
    "filepath = Path('corporate_liquidity (1).csv')\n",
    "corp_liquid = pd.read_csv(filepath)\n",
    "corp_liquid.rename(columns={'date': 'Date'}, inplace=True)"
   ]
  },
  {
   "cell_type": "code",
   "execution_count": null,
   "id": "d33e2edc",
   "metadata": {},
   "outputs": [],
   "source": [
    "corp_liquid_condos = pd.concat([condos, corp_liquid], axis=1, join='inner')\n",
    "corp_liquid_condos.drop(['Date'], axis=1)"
   ]
  },
  {
   "cell_type": "code",
   "execution_count": null,
   "id": "2b955cad",
   "metadata": {},
   "outputs": [],
   "source": [
    "corr_matrix = corp_liquid_condos.corr()\n",
    "sns.heatmap(corr_matrix, annot=True, cmap='coolwarm')\n",
    "plt.savefig('lqd_assets_v_homeprices.png')"
   ]
  },
  {
   "cell_type": "markdown",
   "id": "bfd424cc",
   "metadata": {},
   "source": [
    "## Effective Rate vs Condo prices"
   ]
  },
  {
   "cell_type": "code",
   "execution_count": null,
   "id": "e899a296",
   "metadata": {},
   "outputs": [],
   "source": [
    "filepath = Path('effective_rate (1).csv')\n",
    "eff_rate = pd.read_csv(filepath)\n",
    "eff_rate.rename(columns={'date': 'Date'}, inplace=True)"
   ]
  },
  {
   "cell_type": "code",
   "execution_count": null,
   "id": "6280fd28",
   "metadata": {},
   "outputs": [],
   "source": [
    "er_condos = pd.concat([condos, eff_rate], axis=1, join='inner')\n",
    "er_condos.drop(['Date'], axis=1)"
   ]
  },
  {
   "cell_type": "code",
   "execution_count": null,
   "id": "41c86c3d",
   "metadata": {},
   "outputs": [],
   "source": [
    "corr_matrix = er_condos.corr()\n",
    "sns.heatmap(corr_matrix, annot=True, cmap='coolwarm')\n",
    "plt.savefig('hvalues_vs_ER.png')"
   ]
  },
  {
   "cell_type": "markdown",
   "id": "904e6f68",
   "metadata": {},
   "source": [
    "## CPI vs Condo Prices Correlation heatmap"
   ]
  },
  {
   "cell_type": "code",
   "execution_count": null,
   "id": "fc8736db",
   "metadata": {},
   "outputs": [],
   "source": [
    "filepath = Path('CPI.csv')\n",
    "cpi = pd.read_csv(filepath)\n",
    "cpi.rename(columns={'date': 'Date'}, inplace=True)"
   ]
  },
  {
   "cell_type": "code",
   "execution_count": null,
   "id": "8f48d7de",
   "metadata": {},
   "outputs": [],
   "source": [
    "cpi_condos = pd.concat([condos, cpi], axis=1, join='inner')\n",
    "cpi_condos.drop(['Date'], axis=1)"
   ]
  },
  {
   "cell_type": "code",
   "execution_count": null,
   "id": "049fabda",
   "metadata": {},
   "outputs": [],
   "source": [
    "corr_matrix = cpi_condos.corr()\n",
    "sns.heatmap(corr_matrix, annot=True, cmap='coolwarm')\n",
    "plt.savefig('cpi_v_homeprices.png')"
   ]
  }
 ],
 "metadata": {
  "kernelspec": {
   "display_name": "Python [conda env:pyvizenv] *",
   "language": "python",
   "name": "conda-env-pyvizenv-py"
  },
  "language_info": {
   "codemirror_mode": {
    "name": "ipython",
    "version": 3
   },
   "file_extension": ".py",
   "mimetype": "text/x-python",
   "name": "python",
   "nbconvert_exporter": "python",
   "pygments_lexer": "ipython3",
   "version": "3.7.13"
  }
 },
 "nbformat": 4,
 "nbformat_minor": 5
}
