{
 "cells": [
  {
   "cell_type": "code",
   "execution_count": 1,
   "id": "ac31ce55",
   "metadata": {},
   "outputs": [
    {
     "name": "stderr",
     "output_type": "stream",
     "text": [
      "\n",
      "Bad key text.latex.preview in file C:\\Users\\Dan\\anaconda3\\envs\\pyvizenv\\lib\\site-packages\\matplotlib\\mpl-data\\stylelib\\_classic_test.mplstyle, line 123 ('text.latex.preview : False')\n",
      "You probably need to get an updated matplotlibrc file from\n",
      "https://github.com/matplotlib/matplotlib/blob/v3.5.2/matplotlibrc.template\n",
      "or from the matplotlib source distribution\n",
      "\n",
      "Bad key mathtext.fallback_to_cm in file C:\\Users\\Dan\\anaconda3\\envs\\pyvizenv\\lib\\site-packages\\matplotlib\\mpl-data\\stylelib\\_classic_test.mplstyle, line 155 ('mathtext.fallback_to_cm : True  # When True, use symbols from the Computer Modern')\n",
      "You probably need to get an updated matplotlibrc file from\n",
      "https://github.com/matplotlib/matplotlib/blob/v3.5.2/matplotlibrc.template\n",
      "or from the matplotlib source distribution\n",
      "\n",
      "Bad key savefig.jpeg_quality in file C:\\Users\\Dan\\anaconda3\\envs\\pyvizenv\\lib\\site-packages\\matplotlib\\mpl-data\\stylelib\\_classic_test.mplstyle, line 418 ('savefig.jpeg_quality: 95       # when a jpeg is saved, the default quality parameter.')\n",
      "You probably need to get an updated matplotlibrc file from\n",
      "https://github.com/matplotlib/matplotlib/blob/v3.5.2/matplotlibrc.template\n",
      "or from the matplotlib source distribution\n",
      "\n",
      "Bad key savefig.frameon in file C:\\Users\\Dan\\anaconda3\\envs\\pyvizenv\\lib\\site-packages\\matplotlib\\mpl-data\\stylelib\\_classic_test.mplstyle, line 421 ('savefig.frameon : True')\n",
      "You probably need to get an updated matplotlibrc file from\n",
      "https://github.com/matplotlib/matplotlib/blob/v3.5.2/matplotlibrc.template\n",
      "or from the matplotlib source distribution\n",
      "\n",
      "Bad key verbose.level in file C:\\Users\\Dan\\anaconda3\\envs\\pyvizenv\\lib\\site-packages\\matplotlib\\mpl-data\\stylelib\\_classic_test.mplstyle, line 472 ('verbose.level  : silent      # one of silent, helpful, debug, debug-annoying')\n",
      "You probably need to get an updated matplotlibrc file from\n",
      "https://github.com/matplotlib/matplotlib/blob/v3.5.2/matplotlibrc.template\n",
      "or from the matplotlib source distribution\n",
      "\n",
      "Bad key verbose.fileo in file C:\\Users\\Dan\\anaconda3\\envs\\pyvizenv\\lib\\site-packages\\matplotlib\\mpl-data\\stylelib\\_classic_test.mplstyle, line 473 ('verbose.fileo  : sys.stdout  # a log filename, sys.stdout or sys.stderr')\n",
      "You probably need to get an updated matplotlibrc file from\n",
      "https://github.com/matplotlib/matplotlib/blob/v3.5.2/matplotlibrc.template\n",
      "or from the matplotlib source distribution\n",
      "\n",
      "Bad key keymap.all_axes in file C:\\Users\\Dan\\anaconda3\\envs\\pyvizenv\\lib\\site-packages\\matplotlib\\mpl-data\\stylelib\\_classic_test.mplstyle, line 490 ('keymap.all_axes : a                 # enable all axes')\n",
      "You probably need to get an updated matplotlibrc file from\n",
      "https://github.com/matplotlib/matplotlib/blob/v3.5.2/matplotlibrc.template\n",
      "or from the matplotlib source distribution\n",
      "\n",
      "Bad key animation.avconv_path in file C:\\Users\\Dan\\anaconda3\\envs\\pyvizenv\\lib\\site-packages\\matplotlib\\mpl-data\\stylelib\\_classic_test.mplstyle, line 501 ('animation.avconv_path: avconv     # Path to avconv binary. Without full path')\n",
      "You probably need to get an updated matplotlibrc file from\n",
      "https://github.com/matplotlib/matplotlib/blob/v3.5.2/matplotlibrc.template\n",
      "or from the matplotlib source distribution\n",
      "\n",
      "Bad key animation.avconv_args in file C:\\Users\\Dan\\anaconda3\\envs\\pyvizenv\\lib\\site-packages\\matplotlib\\mpl-data\\stylelib\\_classic_test.mplstyle, line 503 ('animation.avconv_args:            # Additional arguments to pass to avconv')\n",
      "You probably need to get an updated matplotlibrc file from\n",
      "https://github.com/matplotlib/matplotlib/blob/v3.5.2/matplotlibrc.template\n",
      "or from the matplotlib source distribution\n"
     ]
    }
   ],
   "source": [
    "#Incomplete, Sample Correlation\n",
    "\n",
    "# Import libraries and dependencies\n",
    "import pandas as pd\n",
    "from pathlib import Path\n",
    "import seaborn as sns\n",
    "%matplotlib inline"
   ]
  },
  {
   "cell_type": "code",
   "execution_count": 46,
   "id": "f71ac1c5",
   "metadata": {},
   "outputs": [],
   "source": [
    "# Set the file paths to the CSVs using the Path class from the pathlib library\n",
    "fed_assets_path = Path(\"FRED corrected dates/total_assets.csv\")\n",
    "sp500_path = Path(\"Yahoo all dates/sp500_data.csv\")"
   ]
  },
  {
   "cell_type": "code",
   "execution_count": 47,
   "id": "8dbddfdf",
   "metadata": {},
   "outputs": [
    {
     "data": {
      "text/html": [
       "<div>\n",
       "<style scoped>\n",
       "    .dataframe tbody tr th:only-of-type {\n",
       "        vertical-align: middle;\n",
       "    }\n",
       "\n",
       "    .dataframe tbody tr th {\n",
       "        vertical-align: top;\n",
       "    }\n",
       "\n",
       "    .dataframe thead th {\n",
       "        text-align: right;\n",
       "    }\n",
       "</style>\n",
       "<table border=\"1\" class=\"dataframe\">\n",
       "  <thead>\n",
       "    <tr style=\"text-align: right;\">\n",
       "      <th></th>\n",
       "      <th>Open</th>\n",
       "      <th>High</th>\n",
       "      <th>Low</th>\n",
       "      <th>Close</th>\n",
       "      <th>Adj Close</th>\n",
       "      <th>Volume</th>\n",
       "    </tr>\n",
       "    <tr>\n",
       "      <th>Date</th>\n",
       "      <th></th>\n",
       "      <th></th>\n",
       "      <th></th>\n",
       "      <th></th>\n",
       "      <th></th>\n",
       "      <th></th>\n",
       "    </tr>\n",
       "  </thead>\n",
       "  <tbody>\n",
       "    <tr>\n",
       "      <th>2000-01-03</th>\n",
       "      <td>1469.250000</td>\n",
       "      <td>1478.000000</td>\n",
       "      <td>1438.359985</td>\n",
       "      <td>1455.219971</td>\n",
       "      <td>1455.219971</td>\n",
       "      <td>931800000</td>\n",
       "    </tr>\n",
       "    <tr>\n",
       "      <th>2000-01-04</th>\n",
       "      <td>1455.219971</td>\n",
       "      <td>1455.219971</td>\n",
       "      <td>1397.430054</td>\n",
       "      <td>1399.420044</td>\n",
       "      <td>1399.420044</td>\n",
       "      <td>1009000000</td>\n",
       "    </tr>\n",
       "    <tr>\n",
       "      <th>2000-01-05</th>\n",
       "      <td>1399.420044</td>\n",
       "      <td>1413.270020</td>\n",
       "      <td>1377.680054</td>\n",
       "      <td>1402.109985</td>\n",
       "      <td>1402.109985</td>\n",
       "      <td>1085500000</td>\n",
       "    </tr>\n",
       "    <tr>\n",
       "      <th>2000-01-06</th>\n",
       "      <td>1402.109985</td>\n",
       "      <td>1411.900024</td>\n",
       "      <td>1392.099976</td>\n",
       "      <td>1403.449951</td>\n",
       "      <td>1403.449951</td>\n",
       "      <td>1092300000</td>\n",
       "    </tr>\n",
       "    <tr>\n",
       "      <th>2000-01-07</th>\n",
       "      <td>1403.449951</td>\n",
       "      <td>1441.469971</td>\n",
       "      <td>1400.729980</td>\n",
       "      <td>1441.469971</td>\n",
       "      <td>1441.469971</td>\n",
       "      <td>1225200000</td>\n",
       "    </tr>\n",
       "  </tbody>\n",
       "</table>\n",
       "</div>"
      ],
      "text/plain": [
       "                   Open         High          Low        Close    Adj Close  \\\n",
       "Date                                                                          \n",
       "2000-01-03  1469.250000  1478.000000  1438.359985  1455.219971  1455.219971   \n",
       "2000-01-04  1455.219971  1455.219971  1397.430054  1399.420044  1399.420044   \n",
       "2000-01-05  1399.420044  1413.270020  1377.680054  1402.109985  1402.109985   \n",
       "2000-01-06  1402.109985  1411.900024  1392.099976  1403.449951  1403.449951   \n",
       "2000-01-07  1403.449951  1441.469971  1400.729980  1441.469971  1441.469971   \n",
       "\n",
       "                Volume  \n",
       "Date                    \n",
       "2000-01-03   931800000  \n",
       "2000-01-04  1009000000  \n",
       "2000-01-05  1085500000  \n",
       "2000-01-06  1092300000  \n",
       "2000-01-07  1225200000  "
      ]
     },
     "execution_count": 47,
     "metadata": {},
     "output_type": "execute_result"
    }
   ],
   "source": [
    "# Read the ice cream sales data, set the `date` as the index\n",
    "fed_df = pd.read_csv(fed_assets_path)\n",
    "sp500_df = pd.read_csv(sp500_path, index_col=\"Date\", infer_datetime_format=True, parse_dates=True)\n",
    "\n",
    "sp500_df.head()"
   ]
  },
  {
   "cell_type": "code",
   "execution_count": 48,
   "id": "345b43b5",
   "metadata": {},
   "outputs": [
    {
     "data": {
      "text/plain": [
       "date             object\n",
       "total_assets    float64\n",
       "dtype: object"
      ]
     },
     "execution_count": 48,
     "metadata": {},
     "output_type": "execute_result"
    }
   ],
   "source": [
    "fed_df.dtypes"
   ]
  },
  {
   "cell_type": "code",
   "execution_count": 49,
   "id": "e9d302a9",
   "metadata": {},
   "outputs": [
    {
     "data": {
      "text/html": [
       "<div>\n",
       "<style scoped>\n",
       "    .dataframe tbody tr th:only-of-type {\n",
       "        vertical-align: middle;\n",
       "    }\n",
       "\n",
       "    .dataframe tbody tr th {\n",
       "        vertical-align: top;\n",
       "    }\n",
       "\n",
       "    .dataframe thead th {\n",
       "        text-align: right;\n",
       "    }\n",
       "</style>\n",
       "<table border=\"1\" class=\"dataframe\">\n",
       "  <thead>\n",
       "    <tr style=\"text-align: right;\">\n",
       "      <th></th>\n",
       "      <th>Date</th>\n",
       "      <th>WALCL</th>\n",
       "    </tr>\n",
       "  </thead>\n",
       "  <tbody>\n",
       "    <tr>\n",
       "      <th>0</th>\n",
       "      <td>2002-12-01</td>\n",
       "      <td>NaN</td>\n",
       "    </tr>\n",
       "    <tr>\n",
       "      <th>1</th>\n",
       "      <td>2003-01-01</td>\n",
       "      <td>724718.0</td>\n",
       "    </tr>\n",
       "    <tr>\n",
       "      <th>2</th>\n",
       "      <td>2003-02-01</td>\n",
       "      <td>721326.0</td>\n",
       "    </tr>\n",
       "    <tr>\n",
       "      <th>3</th>\n",
       "      <td>2003-03-01</td>\n",
       "      <td>723651.0</td>\n",
       "    </tr>\n",
       "    <tr>\n",
       "      <th>4</th>\n",
       "      <td>2003-04-01</td>\n",
       "      <td>736926.0</td>\n",
       "    </tr>\n",
       "  </tbody>\n",
       "</table>\n",
       "</div>"
      ],
      "text/plain": [
       "         Date     WALCL\n",
       "0  2002-12-01       NaN\n",
       "1  2003-01-01  724718.0\n",
       "2  2003-02-01  721326.0\n",
       "3  2003-03-01  723651.0\n",
       "4  2003-04-01  736926.0"
      ]
     },
     "execution_count": 49,
     "metadata": {},
     "output_type": "execute_result"
    }
   ],
   "source": [
    "columns = ['Date', 'WALCL']\n",
    "fed_df.columns = columns\n",
    "fed_df.head()"
   ]
  },
  {
   "cell_type": "code",
   "execution_count": 50,
   "id": "2e0ce485",
   "metadata": {},
   "outputs": [],
   "source": [
    "fed_df['Date'] = pd.to_datetime(fed_df['Date'])"
   ]
  },
  {
   "cell_type": "code",
   "execution_count": 51,
   "id": "5056e294",
   "metadata": {},
   "outputs": [
    {
     "data": {
      "text/html": [
       "<div>\n",
       "<style scoped>\n",
       "    .dataframe tbody tr th:only-of-type {\n",
       "        vertical-align: middle;\n",
       "    }\n",
       "\n",
       "    .dataframe tbody tr th {\n",
       "        vertical-align: top;\n",
       "    }\n",
       "\n",
       "    .dataframe thead th {\n",
       "        text-align: right;\n",
       "    }\n",
       "</style>\n",
       "<table border=\"1\" class=\"dataframe\">\n",
       "  <thead>\n",
       "    <tr style=\"text-align: right;\">\n",
       "      <th></th>\n",
       "      <th>WALCL</th>\n",
       "    </tr>\n",
       "    <tr>\n",
       "      <th>Date</th>\n",
       "      <th></th>\n",
       "    </tr>\n",
       "  </thead>\n",
       "  <tbody>\n",
       "    <tr>\n",
       "      <th>2002-12-01</th>\n",
       "      <td>NaN</td>\n",
       "    </tr>\n",
       "    <tr>\n",
       "      <th>2003-01-01</th>\n",
       "      <td>724718.0</td>\n",
       "    </tr>\n",
       "    <tr>\n",
       "      <th>2003-02-01</th>\n",
       "      <td>721326.0</td>\n",
       "    </tr>\n",
       "    <tr>\n",
       "      <th>2003-03-01</th>\n",
       "      <td>723651.0</td>\n",
       "    </tr>\n",
       "    <tr>\n",
       "      <th>2003-04-01</th>\n",
       "      <td>736926.0</td>\n",
       "    </tr>\n",
       "  </tbody>\n",
       "</table>\n",
       "</div>"
      ],
      "text/plain": [
       "               WALCL\n",
       "Date                \n",
       "2002-12-01       NaN\n",
       "2003-01-01  724718.0\n",
       "2003-02-01  721326.0\n",
       "2003-03-01  723651.0\n",
       "2003-04-01  736926.0"
      ]
     },
     "execution_count": 51,
     "metadata": {},
     "output_type": "execute_result"
    }
   ],
   "source": [
    "fed_df.set_index('Date', inplace=True)\n",
    "fed_df.head()"
   ]
  },
  {
   "cell_type": "code",
   "execution_count": 52,
   "id": "a03f5258",
   "metadata": {},
   "outputs": [
    {
     "data": {
      "text/html": [
       "<div>\n",
       "<style scoped>\n",
       "    .dataframe tbody tr th:only-of-type {\n",
       "        vertical-align: middle;\n",
       "    }\n",
       "\n",
       "    .dataframe tbody tr th {\n",
       "        vertical-align: top;\n",
       "    }\n",
       "\n",
       "    .dataframe thead th {\n",
       "        text-align: right;\n",
       "    }\n",
       "</style>\n",
       "<table border=\"1\" class=\"dataframe\">\n",
       "  <thead>\n",
       "    <tr style=\"text-align: right;\">\n",
       "      <th></th>\n",
       "      <th>Open</th>\n",
       "      <th>High</th>\n",
       "      <th>Low</th>\n",
       "      <th>Close</th>\n",
       "      <th>Adj Close</th>\n",
       "      <th>Volume</th>\n",
       "    </tr>\n",
       "    <tr>\n",
       "      <th>Date</th>\n",
       "      <th></th>\n",
       "      <th></th>\n",
       "      <th></th>\n",
       "      <th></th>\n",
       "      <th></th>\n",
       "      <th></th>\n",
       "    </tr>\n",
       "  </thead>\n",
       "  <tbody>\n",
       "    <tr>\n",
       "      <th>2000-01-03</th>\n",
       "      <td>1469.250000</td>\n",
       "      <td>1478.000000</td>\n",
       "      <td>1438.359985</td>\n",
       "      <td>1455.219971</td>\n",
       "      <td>1455.219971</td>\n",
       "      <td>931800000</td>\n",
       "    </tr>\n",
       "    <tr>\n",
       "      <th>2000-01-04</th>\n",
       "      <td>1455.219971</td>\n",
       "      <td>1455.219971</td>\n",
       "      <td>1397.430054</td>\n",
       "      <td>1399.420044</td>\n",
       "      <td>1399.420044</td>\n",
       "      <td>1009000000</td>\n",
       "    </tr>\n",
       "    <tr>\n",
       "      <th>2000-01-05</th>\n",
       "      <td>1399.420044</td>\n",
       "      <td>1413.270020</td>\n",
       "      <td>1377.680054</td>\n",
       "      <td>1402.109985</td>\n",
       "      <td>1402.109985</td>\n",
       "      <td>1085500000</td>\n",
       "    </tr>\n",
       "    <tr>\n",
       "      <th>2000-01-06</th>\n",
       "      <td>1402.109985</td>\n",
       "      <td>1411.900024</td>\n",
       "      <td>1392.099976</td>\n",
       "      <td>1403.449951</td>\n",
       "      <td>1403.449951</td>\n",
       "      <td>1092300000</td>\n",
       "    </tr>\n",
       "    <tr>\n",
       "      <th>2000-01-07</th>\n",
       "      <td>1403.449951</td>\n",
       "      <td>1441.469971</td>\n",
       "      <td>1400.729980</td>\n",
       "      <td>1441.469971</td>\n",
       "      <td>1441.469971</td>\n",
       "      <td>1225200000</td>\n",
       "    </tr>\n",
       "  </tbody>\n",
       "</table>\n",
       "</div>"
      ],
      "text/plain": [
       "                   Open         High          Low        Close    Adj Close  \\\n",
       "Date                                                                          \n",
       "2000-01-03  1469.250000  1478.000000  1438.359985  1455.219971  1455.219971   \n",
       "2000-01-04  1455.219971  1455.219971  1397.430054  1399.420044  1399.420044   \n",
       "2000-01-05  1399.420044  1413.270020  1377.680054  1402.109985  1402.109985   \n",
       "2000-01-06  1402.109985  1411.900024  1392.099976  1403.449951  1403.449951   \n",
       "2000-01-07  1403.449951  1441.469971  1400.729980  1441.469971  1441.469971   \n",
       "\n",
       "                Volume  \n",
       "Date                    \n",
       "2000-01-03   931800000  \n",
       "2000-01-04  1009000000  \n",
       "2000-01-05  1085500000  \n",
       "2000-01-06  1092300000  \n",
       "2000-01-07  1225200000  "
      ]
     },
     "execution_count": 52,
     "metadata": {},
     "output_type": "execute_result"
    }
   ],
   "source": [
    "sp500_df.index = pd.to_datetime(sp500_df.index)\n",
    "sp500_df.head()"
   ]
  },
  {
   "cell_type": "code",
   "execution_count": 53,
   "id": "c7de573b",
   "metadata": {},
   "outputs": [
    {
     "data": {
      "text/plain": [
       "<AxesSubplot:xlabel='Date'>"
      ]
     },
     "execution_count": 53,
     "metadata": {},
     "output_type": "execute_result"
    },
    {
     "data": {
      "image/png": "[encoded data removed]",
      "text/plain": [
       "<Figure size 640x480 with 1 Axes>"
      ]
     },
     "metadata": {},
     "output_type": "display_data"
    }
   ],
   "source": [
    "sp500_df['Open'].plot()"
   ]
  },
  {
   "cell_type": "code",
   "execution_count": 54,
   "id": "aef10823",
   "metadata": {},
   "outputs": [
    {
     "data": {
      "text/plain": [
       "<AxesSubplot:xlabel='Date'>"
      ]
     },
     "execution_count": 54,
     "metadata": {},
     "output_type": "execute_result"
    },
    {
     "data": {
      "image/png": "[encoded data removed]",
      "text/plain": [
       "<Figure size 640x480 with 1 Axes>"
      ]
     },
     "metadata": {},
     "output_type": "display_data"
    }
   ],
   "source": [
    "fed_df.plot()"
   ]
  },
  {
   "cell_type": "code",
   "execution_count": 64,
   "id": "833e75b8",
   "metadata": {},
   "outputs": [
    {
     "data": {
      "text/html": [
       "<div>\n",
       "<style scoped>\n",
       "    .dataframe tbody tr th:only-of-type {\n",
       "        vertical-align: middle;\n",
       "    }\n",
       "\n",
       "    .dataframe tbody tr th {\n",
       "        vertical-align: top;\n",
       "    }\n",
       "\n",
       "    .dataframe thead th {\n",
       "        text-align: right;\n",
       "    }\n",
       "</style>\n",
       "<table border=\"1\" class=\"dataframe\">\n",
       "  <thead>\n",
       "    <tr style=\"text-align: right;\">\n",
       "      <th></th>\n",
       "      <th>WALCL</th>\n",
       "      <th>Open</th>\n",
       "      <th>High</th>\n",
       "      <th>Low</th>\n",
       "      <th>Close</th>\n",
       "      <th>Adj Close</th>\n",
       "      <th>Volume</th>\n",
       "    </tr>\n",
       "    <tr>\n",
       "      <th>Date</th>\n",
       "      <th></th>\n",
       "      <th></th>\n",
       "      <th></th>\n",
       "      <th></th>\n",
       "      <th></th>\n",
       "      <th></th>\n",
       "      <th></th>\n",
       "    </tr>\n",
       "  </thead>\n",
       "  <tbody>\n",
       "    <tr>\n",
       "      <th>2003-04-01</th>\n",
       "      <td>736926.0</td>\n",
       "      <td>848.179993</td>\n",
       "      <td>861.280029</td>\n",
       "      <td>847.849976</td>\n",
       "      <td>858.479980</td>\n",
       "      <td>858.479980</td>\n",
       "      <td>1461600000</td>\n",
       "    </tr>\n",
       "    <tr>\n",
       "      <th>2003-05-01</th>\n",
       "      <td>738358.0</td>\n",
       "      <td>916.919983</td>\n",
       "      <td>919.679993</td>\n",
       "      <td>902.830017</td>\n",
       "      <td>916.299988</td>\n",
       "      <td>916.299988</td>\n",
       "      <td>1397500000</td>\n",
       "    </tr>\n",
       "    <tr>\n",
       "      <th>2003-07-01</th>\n",
       "      <td>741656.0</td>\n",
       "      <td>974.500000</td>\n",
       "      <td>983.260010</td>\n",
       "      <td>962.099976</td>\n",
       "      <td>982.320007</td>\n",
       "      <td>982.320007</td>\n",
       "      <td>1460200000</td>\n",
       "    </tr>\n",
       "    <tr>\n",
       "      <th>2003-08-01</th>\n",
       "      <td>740217.0</td>\n",
       "      <td>990.309998</td>\n",
       "      <td>990.309998</td>\n",
       "      <td>978.859985</td>\n",
       "      <td>980.150024</td>\n",
       "      <td>980.150024</td>\n",
       "      <td>1390600000</td>\n",
       "    </tr>\n",
       "    <tr>\n",
       "      <th>2003-10-01</th>\n",
       "      <td>747068.0</td>\n",
       "      <td>995.969971</td>\n",
       "      <td>1018.219971</td>\n",
       "      <td>995.969971</td>\n",
       "      <td>1018.219971</td>\n",
       "      <td>1018.219971</td>\n",
       "      <td>1566300000</td>\n",
       "    </tr>\n",
       "  </tbody>\n",
       "</table>\n",
       "</div>"
      ],
      "text/plain": [
       "               WALCL        Open         High         Low        Close  \\\n",
       "Date                                                                     \n",
       "2003-04-01  736926.0  848.179993   861.280029  847.849976   858.479980   \n",
       "2003-05-01  738358.0  916.919983   919.679993  902.830017   916.299988   \n",
       "2003-07-01  741656.0  974.500000   983.260010  962.099976   982.320007   \n",
       "2003-08-01  740217.0  990.309998   990.309998  978.859985   980.150024   \n",
       "2003-10-01  747068.0  995.969971  1018.219971  995.969971  1018.219971   \n",
       "\n",
       "              Adj Close      Volume  \n",
       "Date                                 \n",
       "2003-04-01   858.479980  1461600000  \n",
       "2003-05-01   916.299988  1397500000  \n",
       "2003-07-01   982.320007  1460200000  \n",
       "2003-08-01   980.150024  1390600000  \n",
       "2003-10-01  1018.219971  1566300000  "
      ]
     },
     "execution_count": 64,
     "metadata": {},
     "output_type": "execute_result"
    }
   ],
   "source": [
    "# Use the `concat` function to combine the two DataFrames by matching indexes (or in this case `Month`)\n",
    "combined_df = pd.concat([fed_df, sp500_df], axis=\"columns\", join=\"inner\")\n",
    "combined_df.head()"
   ]
  },
  {
   "cell_type": "code",
   "execution_count": 65,
   "id": "b994e277",
   "metadata": {},
   "outputs": [
    {
     "data": {
      "text/html": [
       "<div>\n",
       "<style scoped>\n",
       "    .dataframe tbody tr th:only-of-type {\n",
       "        vertical-align: middle;\n",
       "    }\n",
       "\n",
       "    .dataframe tbody tr th {\n",
       "        vertical-align: top;\n",
       "    }\n",
       "\n",
       "    .dataframe thead th {\n",
       "        text-align: right;\n",
       "    }\n",
       "</style>\n",
       "<table border=\"1\" class=\"dataframe\">\n",
       "  <thead>\n",
       "    <tr style=\"text-align: right;\">\n",
       "      <th></th>\n",
       "      <th>WALCL</th>\n",
       "      <th>Open</th>\n",
       "    </tr>\n",
       "    <tr>\n",
       "      <th>Date</th>\n",
       "      <th></th>\n",
       "      <th></th>\n",
       "    </tr>\n",
       "  </thead>\n",
       "  <tbody>\n",
       "    <tr>\n",
       "      <th>2003-04-01</th>\n",
       "      <td>736926.0</td>\n",
       "      <td>848.179993</td>\n",
       "    </tr>\n",
       "    <tr>\n",
       "      <th>2003-05-01</th>\n",
       "      <td>738358.0</td>\n",
       "      <td>916.919983</td>\n",
       "    </tr>\n",
       "    <tr>\n",
       "      <th>2003-07-01</th>\n",
       "      <td>741656.0</td>\n",
       "      <td>974.500000</td>\n",
       "    </tr>\n",
       "    <tr>\n",
       "      <th>2003-08-01</th>\n",
       "      <td>740217.0</td>\n",
       "      <td>990.309998</td>\n",
       "    </tr>\n",
       "    <tr>\n",
       "      <th>2003-10-01</th>\n",
       "      <td>747068.0</td>\n",
       "      <td>995.969971</td>\n",
       "    </tr>\n",
       "  </tbody>\n",
       "</table>\n",
       "</div>"
      ],
      "text/plain": [
       "               WALCL        Open\n",
       "Date                            \n",
       "2003-04-01  736926.0  848.179993\n",
       "2003-05-01  738358.0  916.919983\n",
       "2003-07-01  741656.0  974.500000\n",
       "2003-08-01  740217.0  990.309998\n",
       "2003-10-01  747068.0  995.969971"
      ]
     },
     "execution_count": 65,
     "metadata": {},
     "output_type": "execute_result"
    }
   ],
   "source": [
    "combined = combined_df.drop(columns=['High', 'Low', 'Close', 'Adj Close', 'Volume'])\n",
    "combined.head()"
   ]
  },
  {
   "cell_type": "code",
   "execution_count": 60,
   "id": "12540c30",
   "metadata": {},
   "outputs": [
    {
     "data": {
      "text/plain": [
       "<AxesSubplot:xlabel='WALCL', ylabel='Open'>"
      ]
     },
     "execution_count": 60,
     "metadata": {},
     "output_type": "execute_result"
    },
    {
     "data": {
      "image/png": "[encoded data removed]",
      "text/plain": [
       "<Figure size 640x480 with 1 Axes>"
      ]
     },
     "metadata": {},
     "output_type": "display_data"
    }
   ],
   "source": [
    "combined.plot(kind='scatter', x='WALCL', y='Open')"
   ]
  },
  {
   "cell_type": "code",
   "execution_count": 61,
   "id": "b32ccbf2",
   "metadata": {},
   "outputs": [
    {
     "data": {
      "text/plain": [
       "<AxesSubplot:>"
      ]
     },
     "execution_count": 61,
     "metadata": {},
     "output_type": "execute_result"
    },
    {
     "data": {
      "image/png": "[encoded data removed]",
      "text/plain": [
       "<Figure size 640x480 with 2 Axes>"
      ]
     },
     "metadata": {},
     "output_type": "display_data"
    }
   ],
   "source": [
    "price_correlation = combined.corr()\n",
    "sns.heatmap(price_correlation, cmap='coolwarm', annot=True, fmt='.2f', vmin=-1, vmax=1)"
   ]
  },
  {
   "cell_type": "code",
   "execution_count": null,
   "id": "d28bbc5a",
   "metadata": {},
   "outputs": [],
   "source": []
  }
 ],
 "metadata": {
  "kernelspec": {
   "display_name": "Python [conda env:pyvizenv] *",
   "language": "python",
   "name": "conda-env-pyvizenv-py"
  },
  "language_info": {
   "codemirror_mode": {
    "name": "ipython",
    "version": 3
   },
   "file_extension": ".py",
   "mimetype": "text/x-python",
   "name": "python",
   "nbconvert_exporter": "python",
   "pygments_lexer": "ipython3",
   "version": "3.7.13"
  }
 },
 "nbformat": 4,
 "nbformat_minor": 5
}
