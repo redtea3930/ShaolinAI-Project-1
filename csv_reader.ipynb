{
 "cells": [
  {
   "cell_type": "markdown",
   "id": "ab92753b",
   "metadata": {},
   "source": [
    "# Instructor Demo: Reading CSV Files.\n",
    "\n",
    "This program uses the CSV library to read in a CSV file of Peyton Manning's footbal stats. It iterates over each\n",
    "row to get the season and the number of yards he gained passing. It then calculates the min,\n",
    "max, and avg passing stats. Finally, it writes the results to a new CSV file.\n"
   ]
  },
  {
   "cell_type": "code",
   "execution_count": 1,
   "id": "d4b61c90",
   "metadata": {},
   "outputs": [
    {
     "name": "stdout",
     "output_type": "stream",
     "text": [
      "<class '_io.TextIOWrapper'>\n",
      "<class '_csv.reader'>\n",
      "HEADER: ['Year', 'Age', 'Tm', 'Pos', 'No.', 'G', 'GS', 'QBrec', 'Cmp', 'Att', 'Cmp%', 'Yds', 'TD', 'TD%', 'Int', 'Int%', '1D', 'Lng', 'Y/A', 'AY/A', 'Y/C', 'Y/G', 'Rate', 'QBR', 'Sk', 'Yds', 'Sk%', 'NY/A', 'ANY/A', '4QC', 'GWD', 'AV', 'Awards']\n",
      "['1998', '22', 'IND', 'QB', '18', '16', '16', '3-13-0', '326', '575', '56.7', '3739', '26', '4.5', '28', '4.9', '191', '78', '6.5', '5.2', '11.5', '233.7', '71.2', '', '22', '109', '3.7', '6.08', '4.84', '1', '1', '11', 'AP ORoY-2']\n",
      "['1999*', '23', 'IND', 'QB', '18', '16', '16', '13-3-0', '331', '533', '62.1', '4135', '26', '4.9', '15', '2.8', '197', '80', '7.8', '7.5', '12.5', '258.4', '90.7', '', '14', '116', '2.6', '7.35', '7.06', '6', '7', '18', 'AP MVP-2 AP OPoY-3 AP2 PB']\n",
      "['2000*', '24', 'IND', 'QB', '18', '16', '16', '10-6-0', '357', '571', '62.5', '4413', '33', '5.8', '15', '2.6', '213', '78', '7.7', '7.7', '12.4', '275.8', '94.7', '', '20', '131', '3.4', '7.25', '7.22', '2', '3', '17', 'AP MVP-5 AP OPoY-8 AP2 PB']\n",
      "['2001', '25', 'IND', 'QB', '18', '16', '16', '6-10-0', '343', '547', '62.7', '4131', '26', '4.8', '23', '4.2', '201', '86', '7.6', '6.6', '12.0', '258.2', '84.1', '', '29', '232', '5.0', '6.77', '5.88', '', '', '15', '']\n",
      "['2002*', '26', 'IND', 'QB', '18', '16', '16', '10-6-0', '392', '591', '66.3', '4200', '27', '4.6', '19', '3.2', '213', '69', '7.1', '6.6', '10.7', '262.5', '88.8', '', '23', '145', '3.7', '6.60', '6.09', '4', '5', '15', 'PB']\n",
      "['2003*+', '27', 'IND', 'QB', '18', '16', '16', '12-4-0', '379', '566', '67.0', '4267', '29', '5.1', '10', '1.8', '213', '79', '7.5', '7.8', '11.3', '266.7', '99.0', '', '18', '107', '3.1', '7.12', '7.35', '3', '4', '18', 'AP MVP-1 AP OPoY-3 AP1 PB']\n",
      "['2004*+', '28', 'IND', 'QB', '18', '16', '16', '12-4-0', '336', '497', '67.6', '4557', '49', '9.9', '10', '2.0', '233', '80', '9.2', '10.2', '13.6', '284.8', '121.1', '', '13', '101', '2.5', '8.74', '9.78', '2', '4', '21', 'AP MVP-1 AP OPoY-1 AP1 PB']\n",
      "['2005*+', '29', 'IND', 'QB', '18', '16', '16', '14-2-0', '305', '453', '67.3', '3747', '28', '6.2', '10', '2.2', '198', '80', '8.3', '8.5', '12.3', '234.2', '104.1', '', '17', '81', '3.6', '7.80', '8.03', '1', '1', '18', 'AP MVP-2 AP OPoY-2 AP1 PB']\n",
      "['2006*', '30', 'IND', 'QB', '18', '16', '16', '12-4-0', '362', '557', '65.0', '4397', '31', '5.6', '9', '1.6', '242', '68', '7.9', '8.3', '12.1', '274.8', '101.0', '86.4', '14', '86', '2.5', '7.55', '7.93', '3', '3', '20', 'AP MVP-3 AP OPoY-3 AP2 PB']\n",
      "['2007*', '31', 'IND', 'QB', '18', '16', '16', '13-3-0', '337', '515', '65.4', '4040', '31', '6.0', '14', '2.7', '207', '73', '7.8', '7.8', '12.0', '252.5', '98.0', '76.9', '21', '124', '3.9', '7.31', '7.29', '1', '2', '17', 'PB']\n",
      "['2008*+', '32', 'IND', 'QB', '18', '16', '16', '12-4-0', '371', '555', '66.8', '4002', '27', '4.9', '12', '2.2', '213', '75', '7.2', '7.2', '10.8', '250.1', '95.0', '76.5', '14', '86', '2.5', '6.88', '6.88', '4', '6', '16', 'AP MVP-1 AP OPoY-2 AP1 PB']\n",
      "['2009*+', '33', 'IND', 'QB', '18', '16', '16', '14-2-0', '393', '571', '68.8', '4500', '33', '5.8', '16', '2.8', '241', '80', '7.9', '7.8', '11.5', '281.3', '99.9', '80.7', '10', '74', '1.7', '7.62', '7.51', '7', '7', '17', 'AP MVP-1 AP OPoY-3 AP1 PB']\n",
      "['2010*', '34', 'IND', 'QB', '18', '16', '16', '10-6-0', '450', '679', '66.3', '4700', '33', '4.9', '17', '2.5', '253', '73', '6.9', '6.8', '10.4', '293.8', '91.9', '71.6', '16', '91', '2.3', '6.63', '6.48', '0', '2', '16', 'PB']\n",
      "['2012*+', '36', 'DEN', 'QB', '18', '16', '16', '13-3-0', '400', '583', '68.6', '4659', '37', '6.3', '11', '1.9', '231', '71', '8.0', '8.4', '11.6', '291.2', '105.8', '79.6', '21', '137', '3.5', '7.49', '7.89', '3', '3', '15', 'AP MVP-2 AP OPoY-2 AP CPoY-1 AP1 PB']\n",
      "['2013*+', '37', 'DEN', 'QB', '18', '16', '16', '13-3-0', '450', '659', '68.3', '5477', '55', '8.3', '10', '1.5', '291', '78', '8.3', '9.3', '12.2', '342.3', '115.1', '79.0', '18', '120', '2.7', '7.91', '8.87', '2', '2', '19', 'AP MVP-1 AP OPoY-1 AP1 PB']\n",
      "['2014*', '38', 'DEN', 'QB', '18', '16', '16', '12-4-0', '395', '597', '66.2', '4727', '39', '6.5', '15', '2.5', '227', '86', '7.9', '8.1', '12.0', '295.4', '101.5', '72.6', '17', '118', '2.8', '7.51', '7.68', '1', '1', '16', 'PB']\n",
      "['2015', '39', 'DEN', 'QB', '18', '10', '9', '7-2-0', '198', '331', '59.8', '2249', '9', '2.7', '17', '5.1', '110', '75', '6.8', '5.0', '11.4', '224.9', '67.9', '44.2', '16', '95', '4.6', '6.21', '4.52', '3', '3', '2', '']\n"
     ]
    }
   ],
   "source": [
    "# Import pathlib and csv libraries\n",
    "from pathlib import Path\n",
    "import csv\n",
    "\n",
    "# Set the file location to read from\n",
    "read_path = Path('../Resources/passing_yards.csv')\n",
    "\n",
    "# Initialize variable to hold passing_yards\n",
    "passing_yards = []\n",
    "\n",
    "# Create line_num variable\n",
    "line_num = 0\n",
    "\n",
    "# Open the file to read from it\n",
    "with open(read_path, 'r') as file:\n",
    "\n",
    "    # Print the datatype of the CSV file object\n",
    "    print(type(file))\n",
    "\n",
    "    # Use the csv.reader() function on the file (using ',' as the delimiter)\n",
    "    csvreader = csv.reader(file, delimiter=',')\n",
    "    # Print the datatype of the csvreader\n",
    "    print(type(csvreader))\n",
    "\n",
    "    # Read in the header (line 1)\n",
    "    header = next(csvreader)\n",
    "    line_num += 1\n",
    "    # Print the header\n",
    "    print(f\"HEADER: {header}\")\n",
    "\n",
    "    # Read row by row after the header\n",
    "    for row in csvreader:\n",
    "        print(row)\n",
    "        # Set the season_yards variable to the value in the 11th column of the row\n",
    "        season_yards = int(row[11])\n",
    "        # Append the season_yards to the list of passing_yards\n",
    "        passing_yards.append(season_yards)"
   ]
  },
  {
   "cell_type": "code",
   "execution_count": 2,
   "id": "e6595198",
   "metadata": {},
   "outputs": [
    {
     "name": "stdout",
     "output_type": "stream",
     "text": [
      "5477 2249 4231.76\n"
     ]
    }
   ],
   "source": [
    "# Initialize metric variables\n",
    "max_yards = 0\n",
    "min_yards = 0\n",
    "average_yards = 0\n",
    "total_yards = 0\n",
    "number_of_seasons = 0\n",
    "\n",
    "# Calculate the max, mean, and average of the list of passing_yards\n",
    "for season_yards in passing_yards:\n",
    "\n",
    "    # Sum the total and count variables\n",
    "    total_yards += season_yards\n",
    "    number_of_seasons += 1\n",
    "\n",
    "    # Logic to determine min and max passing_yards\n",
    "    if min_yards == 0:\n",
    "        min_yards = season_yards\n",
    "    elif season_yards > max_yards:\n",
    "        max_yards = season_yards\n",
    "    elif season_yards < min_yards:\n",
    "        min_yards = season_yards\n",
    "\n",
    "# Calculate the average salary, round to the nearest 2 decimal places\n",
    "average_yards = round(total_yards / number_of_seasons, 2)\n",
    "\n",
    "# Print the stats\n",
    "print(max_yards, min_yards, average_yards)"
   ]
  },
  {
   "cell_type": "code",
   "execution_count": 3,
   "id": "e7d5bcea",
   "metadata": {},
   "outputs": [],
   "source": [
    "# Set the output header\n",
    "header = [\"Max_Yards\", \"Min_Yards\", \"Avg_Yards\"]\n",
    "# Create a list of stats\n",
    "stats = [max_yards, min_yards, average_yards]\n",
    "\n",
    "# Set the output file path\n",
    "write_path = Path('output.csv')\n",
    "\n",
    "# Open the output file object in write mode\n",
    "with open(write_path, 'w') as file:\n",
    "    # Convert the file object to a csvwriter object\n",
    "    csvwriter = csv.writer(file, delimiter=',')\n",
    "    # Write the header to the new file\n",
    "    csvwriter.writerow(header)\n",
    "    # Write the stats to the new file\n",
    "    csvwriter.writerow(stats)"
   ]
  },
  {
   "cell_type": "code",
   "execution_count": null,
   "id": "a816dbee",
   "metadata": {},
   "outputs": [],
   "source": []
  }
 ],
 "metadata": {
  "kernelspec": {
   "display_name": "Python 3 (ipykernel)",
   "language": "python",
   "name": "python3"
  },
  "language_info": {
   "codemirror_mode": {
    "name": "ipython",
    "version": 3
   },
   "file_extension": ".py",
   "mimetype": "text/x-python",
   "name": "python",
   "nbconvert_exporter": "python",
   "pygments_lexer": "ipython3",
   "version": "3.7.13"
  }
 },
 "nbformat": 4,
 "nbformat_minor": 5
}
